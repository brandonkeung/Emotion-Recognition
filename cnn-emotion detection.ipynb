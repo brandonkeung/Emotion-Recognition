{
 "cells": [
  {
   "cell_type": "markdown",
   "id": "6434aaf0-72a8-4846-b829-40e3dd3933d8",
   "metadata": {},
   "source": [
    "### CS 178: Machine Learning &amp; Data Mining\n",
    "\n",
    "# Final Project: CNN on Facial Expressions\n"
   ]
  },
  {
   "cell_type": "code",
   "execution_count": 19,
   "id": "5b796842-aa30-4966-8a3c-10fcfad4601a",
   "metadata": {},
   "outputs": [],
   "source": [
    "# Common libs\n",
    "import pandas as pd\n",
    "import numpy as np\n",
    "import sys\n",
    "import os\n",
    "import random\n",
    "from pathlib import Path\n",
    "from tqdm import tqdm\n",
    "\n",
    "# Image processing\n",
    "#import imageio\n",
    "import cv2\n",
    "#import skimage.transform\n",
    "#from skimage.transform import rescale, resize, downscale_local_mean\n",
    "\n",
    "# Charts\n",
    "import matplotlib.pyplot as plt\n",
    "# import seaborn as sns\n",
    "\n",
    "# ML, statistics\n",
    "import scipy\n",
    "from sklearn.linear_model import LogisticRegression\n",
    "from sklearn.model_selection import train_test_split\n",
    "from sklearn import metrics\n",
    "from sklearn.metrics import confusion_matrix, roc_curve, auc, roc_auc_score\n",
    "\n",
    "# Tensorflow\n",
    "from sklearn.preprocessing import OneHotEncoder, LabelEncoder\n",
    "import tensorflow as tf\n",
    "from tensorflow import keras\n",
    "from tensorflow.keras.preprocessing.image import ImageDataGenerator\n",
    "from tensorflow.keras.layers import Conv2D, MaxPooling2D\n",
    "from tensorflow.keras.layers import Dense, Dropout, Flatten, Activation\n",
    "from tensorflow.keras.models import Sequential\n",
    "from tensorflow.keras.callbacks import EarlyStopping, ReduceLROnPlateau, ModelCheckpoint\n",
    "from tensorflow.keras.optimizers import Adam"
   ]
  },
  {
   "cell_type": "markdown",
   "id": "6262f267-87ad-458c-a9cf-2483141eb642",
   "metadata": {},
   "source": [
    "#### 1.2 Loading in legend "
   ]
  },
  {
   "cell_type": "code",
   "execution_count": 2,
   "id": "c37d8879-7e8a-47e3-9038-02f15cf0d415",
   "metadata": {},
   "outputs": [
    {
     "data": {
      "text/html": [
       "<div>\n",
       "<style scoped>\n",
       "    .dataframe tbody tr th:only-of-type {\n",
       "        vertical-align: middle;\n",
       "    }\n",
       "\n",
       "    .dataframe tbody tr th {\n",
       "        vertical-align: top;\n",
       "    }\n",
       "\n",
       "    .dataframe thead th {\n",
       "        text-align: right;\n",
       "    }\n",
       "</style>\n",
       "<table border=\"1\" class=\"dataframe\">\n",
       "  <thead>\n",
       "    <tr style=\"text-align: right;\">\n",
       "      <th></th>\n",
       "      <th>user.id</th>\n",
       "      <th>image</th>\n",
       "      <th>emotion</th>\n",
       "    </tr>\n",
       "  </thead>\n",
       "  <tbody>\n",
       "    <tr>\n",
       "      <th>0</th>\n",
       "      <td>628</td>\n",
       "      <td>facial-expressions_2868588k.jpg</td>\n",
       "      <td>anger</td>\n",
       "    </tr>\n",
       "    <tr>\n",
       "      <th>1</th>\n",
       "      <td>628</td>\n",
       "      <td>facial-expressions_2868585k.jpg</td>\n",
       "      <td>surprise</td>\n",
       "    </tr>\n",
       "    <tr>\n",
       "      <th>2</th>\n",
       "      <td>628</td>\n",
       "      <td>facial-expressions_2868584k.jpg</td>\n",
       "      <td>disgust</td>\n",
       "    </tr>\n",
       "    <tr>\n",
       "      <th>3</th>\n",
       "      <td>628</td>\n",
       "      <td>facial-expressions_2868582k.jpg</td>\n",
       "      <td>fear</td>\n",
       "    </tr>\n",
       "    <tr>\n",
       "      <th>4</th>\n",
       "      <td>dwdii</td>\n",
       "      <td>Aaron_Eckhart_0001.jpg</td>\n",
       "      <td>neutral</td>\n",
       "    </tr>\n",
       "  </tbody>\n",
       "</table>\n",
       "</div>"
      ],
      "text/plain": [
       "  user.id                            image   emotion\n",
       "0     628  facial-expressions_2868588k.jpg     anger\n",
       "1     628  facial-expressions_2868585k.jpg  surprise\n",
       "2     628  facial-expressions_2868584k.jpg   disgust\n",
       "3     628  facial-expressions_2868582k.jpg      fear\n",
       "4   dwdii           Aaron_Eckhart_0001.jpg   neutral"
      ]
     },
     "execution_count": 2,
     "metadata": {},
     "output_type": "execute_result"
    }
   ],
   "source": [
    "# toy=True - development mode, small samples, limited training, fast run\n",
    "# toy=False - full data, slow learning and run\n",
    "toy= False\n",
    "\n",
    "## downloading csv label file\n",
    "## facial_df = facial dataframe\n",
    "labels_url = \"https://raw.githubusercontent.com/muxspace/facial_expressions/master/data/legend.csv\"\n",
    "facial_df = pd.read_csv(labels_url)\n",
    "if toy:\n",
    "    facial_df = facial_df.sample(500)\n",
    "\n",
    "facial_df.head() #head returns first [.head(n)] n values"
   ]
  },
  {
   "cell_type": "markdown",
   "id": "1d2f11a4-c579-4eba-9e3a-9c219ca3d6c6",
   "metadata": {},
   "source": [
    "##### Preprocessing\n",
    "Emotion labels are case-sensitive. So, need to preprocess and make them all the same."
   ]
  },
  {
   "cell_type": "code",
   "execution_count": 3,
   "id": "1670ba18-c762-42ea-975f-7b0f5046c31d",
   "metadata": {},
   "outputs": [],
   "source": [
    "facial_df['emotion'] = facial_df['emotion'].str.lower()\n",
    "facial_labels = facial_df.emotion.unique()"
   ]
  },
  {
   "cell_type": "markdown",
   "id": "e7fc62fe-56b3-404e-b748-40058792bf54",
   "metadata": {},
   "source": [
    "##### Visualizing Labels"
   ]
  },
  {
   "cell_type": "code",
   "execution_count": 4,
   "id": "9a425a1d-bc34-4279-b428-db3b34732cf8",
   "metadata": {},
   "outputs": [
    {
     "data": {
      "image/png": "[encoded data removed]",
      "text/plain": [
       "<Figure size 640x480 with 1 Axes>"
      ]
     },
     "metadata": {},
     "output_type": "display_data"
    }
   ],
   "source": [
    "facial_df.emotion.value_counts().plot(kind='bar')\n",
    "plt.title('Labels counts')\n",
    "plt.xlabel('Label')\n",
    "plt.ylabel('Count')\n",
    "plt.show()"
   ]
  },
  {
   "cell_type": "markdown",
   "id": "710ffee7-9145-402c-9fae-ffaac937a861",
   "metadata": {},
   "source": [
    "##### Visualizing Images (Basic)"
   ]
  },
  {
   "cell_type": "code",
   "execution_count": 5,
   "id": "af81e206-ed87-420a-8719-8dbaae8a6c81",
   "metadata": {},
   "outputs": [
    {
     "name": "stdout",
     "output_type": "stream",
     "text": [
      "../CS 178/cs178_facial_expressions/images/Winona_Ryder_0014.jpg\n"
     ]
    },
    {
     "ename": "AttributeError",
     "evalue": "'NoneType' object has no attribute 'shape'",
     "output_type": "error",
     "traceback": [
      "\u001b[1;31m---------------------------------------------------------------------------\u001b[0m",
      "\u001b[1;31mAttributeError\u001b[0m                            Traceback (most recent call last)",
      "Cell \u001b[1;32mIn[5], line 45\u001b[0m\n\u001b[0;32m     42\u001b[0m         fig\u001b[38;5;241m.\u001b[39mtight_layout()\n\u001b[0;32m     44\u001b[0m testing \u001b[38;5;241m=\u001b[39m ImageViewer()\n\u001b[1;32m---> 45\u001b[0m \u001b[43mtesting\u001b[49m\u001b[38;5;241;43m.\u001b[39;49m\u001b[43mdraw_sample_images\u001b[49m\u001b[43m(\u001b[49m\u001b[43m)\u001b[49m\n",
      "Cell \u001b[1;32mIn[5], line 36\u001b[0m, in \u001b[0;36mImageViewer.draw_sample_images\u001b[1;34m(self)\u001b[0m\n\u001b[0;32m     33\u001b[0m im\u001b[38;5;241m=\u001b[39m\u001b[38;5;28mself\u001b[39m\u001b[38;5;241m.\u001b[39mread_img(sample[\u001b[38;5;241m0\u001b[39m])\n\u001b[0;32m     35\u001b[0m \u001b[38;5;66;03m# [makes images appear the same size] Calculate the aspect ratio to maintain the original image proportions\u001b[39;00m\n\u001b[1;32m---> 36\u001b[0m aspect_ratio \u001b[38;5;241m=\u001b[39m \u001b[43mim\u001b[49m\u001b[38;5;241;43m.\u001b[39;49m\u001b[43mshape\u001b[49m[\u001b[38;5;241m1\u001b[39m] \u001b[38;5;241m/\u001b[39m im\u001b[38;5;241m.\u001b[39mshape[\u001b[38;5;241m0\u001b[39m]\n\u001b[0;32m     37\u001b[0m ax[col]\u001b[38;5;241m.\u001b[39mimshow(im, cmap\u001b[38;5;241m=\u001b[39m\u001b[38;5;124m\"\u001b[39m\u001b[38;5;124mgray\u001b[39m\u001b[38;5;124m\"\u001b[39m, vmin\u001b[38;5;241m=\u001b[39m\u001b[38;5;241m0\u001b[39m, vmax\u001b[38;5;241m=\u001b[39m\u001b[38;5;241m255\u001b[39m, extent\u001b[38;5;241m=\u001b[39m[\u001b[38;5;241m0\u001b[39m, \u001b[38;5;241m1\u001b[39m, \u001b[38;5;241m0\u001b[39m, \u001b[38;5;241m1\u001b[39m \u001b[38;5;241m*\u001b[39m aspect_ratio])\n\u001b[0;32m     40\u001b[0m ax[col]\u001b[38;5;241m.\u001b[39mset_title(labels[col])\n",
      "\u001b[1;31mAttributeError\u001b[0m: 'NoneType' object has no attribute 'shape'"
     ]
    },
    {
     "data": {
      "image/png": "[encoded data removed]",
      "text/plain": [
       "<Figure size 1000x700 with 8 Axes>"
      ]
     },
     "metadata": {},
     "output_type": "display_data"
    }
   ],
   "source": [
    "from io import BytesIO\n",
    "from PIL import Image\n",
    "import urllib\n",
    "\n",
    "\n",
    "\n",
    "class ImageViewer:\n",
    "    def read_img(self,id, folder=\"images\"):\n",
    "        \"\"\"\n",
    "        Read image by it's image name [id]\n",
    "        \"\"\"\n",
    "        file = \"../CS 178/cs178_facial_expressions/\" + folder + \"/\" + id\n",
    "        print(file)\n",
    "        im=cv2.imread(str(file),  cv2.IMREAD_GRAYSCALE)\n",
    "        return im\n",
    "\n",
    "    def draw_sample_images(self):\n",
    "        \"\"\"\n",
    "        Draws images for each label.\n",
    "        labels: ['neutral' 'happiness' 'sadness' 'surprise' 'anger' 'disgust' 'fear' 'contempt']\n",
    "        \"\"\"\n",
    "        ncols=8\n",
    "        fig, ax = plt.subplots(nrows=1, ncols=ncols, figsize=(10,7))\n",
    "        \n",
    "        labels=  ['neutral', 'happiness', 'sadness', 'surprise', 'anger' ,'disgust', 'fear', 'contempt']\n",
    "\n",
    "        for col in range(0,ncols):\n",
    "            try:\n",
    "                sample = facial_df[facial_df['emotion']==labels[col]]['image'].sample(1).values\n",
    "            except ValueError:\n",
    "                continue\n",
    "            \n",
    "            im=self.read_img(sample[0])\n",
    "            \n",
    "            # [makes images appear the same size] Calculate the aspect ratio to maintain the original image proportions\n",
    "            aspect_ratio = im.shape[1] / im.shape[0]\n",
    "            ax[col].imshow(im, cmap=\"gray\", vmin=0, vmax=255, extent=[0, 1, 0, 1 * aspect_ratio])\n",
    "            \n",
    "\n",
    "            ax[col].set_title(labels[col])\n",
    "            ax[col].axis('off')  # Turn off axis labels\n",
    "        fig.tight_layout()\n",
    "        \n",
    "testing = ImageViewer()\n",
    "testing.draw_sample_images()\n",
    "\n"
   ]
  },
  {
   "cell_type": "markdown",
   "id": "506b2f02-a566-45ea-b260-54e00d50204f",
   "metadata": {},
   "source": [
    "## Playing with sift"
   ]
  },
  {
   "cell_type": "code",
   "execution_count": 6,
   "id": "427e130f-12cc-4895-9e7f-305825269219",
   "metadata": {},
   "outputs": [
    {
     "ename": "error",
     "evalue": "OpenCV(4.8.1) D:\\a\\opencv-python\\opencv-python\\opencv\\modules\\imgproc\\src\\color.cpp:182: error: (-215:Assertion failed) !_src.empty() in function 'cv::cvtColor'\n",
     "output_type": "error",
     "traceback": [
      "\u001b[1;31m---------------------------------------------------------------------------\u001b[0m",
      "\u001b[1;31merror\u001b[0m                                     Traceback (most recent call last)",
      "Cell \u001b[1;32mIn[6], line 5\u001b[0m\n\u001b[0;32m      3\u001b[0m \u001b[38;5;66;03m#reading image\u001b[39;00m\n\u001b[0;32m      4\u001b[0m img \u001b[38;5;241m=\u001b[39m cv2\u001b[38;5;241m.\u001b[39mimread(\u001b[38;5;124m'\u001b[39m\u001b[38;5;124m../CS 178/cs178_facial_expressions/images/Milan_Kucan_0001.jpg\u001b[39m\u001b[38;5;124m'\u001b[39m)\n\u001b[1;32m----> 5\u001b[0m gray\u001b[38;5;241m=\u001b[39m \u001b[43mcv2\u001b[49m\u001b[38;5;241;43m.\u001b[39;49m\u001b[43mcvtColor\u001b[49m\u001b[43m(\u001b[49m\u001b[43mimg\u001b[49m\u001b[43m,\u001b[49m\u001b[43mcv2\u001b[49m\u001b[38;5;241;43m.\u001b[39;49m\u001b[43mCOLOR_BGR2GRAY\u001b[49m\u001b[43m)\u001b[49m\n\u001b[0;32m      7\u001b[0m \u001b[38;5;66;03m#keypoints\u001b[39;00m\n\u001b[0;32m      8\u001b[0m sift \u001b[38;5;241m=\u001b[39m cv2\u001b[38;5;241m.\u001b[39mSIFT_create()\n",
      "\u001b[1;31merror\u001b[0m: OpenCV(4.8.1) D:\\a\\opencv-python\\opencv-python\\opencv\\modules\\imgproc\\src\\color.cpp:182: error: (-215:Assertion failed) !_src.empty() in function 'cv::cvtColor'\n"
     ]
    },
    {
     "data": {
      "image/png": "[encoded data removed]",
      "text/plain": [
       "<Figure size 640x480 with 2 Axes>"
      ]
     },
     "metadata": {},
     "output_type": "display_data"
    }
   ],
   "source": [
    "fig, ax =  plt.subplots(1, 2) # , figsize=(10,7))\n",
    "\n",
    "#reading image\n",
    "img = cv2.imread('../CS 178/cs178_facial_expressions/images/Milan_Kucan_0001.jpg')\n",
    "gray= cv2.cvtColor(img,cv2.COLOR_BGR2GRAY)\n",
    "\n",
    "#keypoints\n",
    "sift = cv2.SIFT_create()\n",
    "kp = sift.detect(gray,None)\n",
    "\n",
    "\n",
    "\n",
    "img=cv2.drawKeypoints(gray,kp,img)# ,flags=cv2.DRAW_MATCHES_FLAGS_DRAW_RICH_KEYPOINTS) #flags: shows circle of size of kp and will show it's orientation\n",
    "cv2.imwrite('sift_keypoints.jpg',img)\n",
    "ax[0].imshow(img)\n",
    "\n",
    "img=cv2.drawKeypoints(gray,kp,img, flags=cv2.DRAW_MATCHES_FLAGS_DRAW_RICH_KEYPOINTS) #flags: shows circle of size of kp and will show it's orientation\n",
    "cv2.imwrite('sift_keypoints.jpg',img)\n",
    "ax[1].imshow(img)\n",
    "# gives us data we can use des: numpy array of shape (num of kp) x 128\n",
    "kp,des = sift.compute(gray,kp)"
   ]
  },
  {
   "cell_type": "markdown",
   "id": "647101a7-519a-45e4-a004-a78814b9e1b2",
   "metadata": {},
   "source": [
    "### Comparing Images w/ SIFT"
   ]
  },
  {
   "cell_type": "code",
   "execution_count": 7,
   "id": "b5eaa40d-6093-4f1e-b0a9-3af6045da911",
   "metadata": {},
   "outputs": [
    {
     "ename": "error",
     "evalue": "OpenCV(4.8.1) D:\\a\\opencv-python\\opencv-python\\opencv\\modules\\imgproc\\src\\color.cpp:182: error: (-215:Assertion failed) !_src.empty() in function 'cv::cvtColor'\n",
     "output_type": "error",
     "traceback": [
      "\u001b[1;31m---------------------------------------------------------------------------\u001b[0m",
      "\u001b[1;31merror\u001b[0m                                     Traceback (most recent call last)",
      "Cell \u001b[1;32mIn[7], line 15\u001b[0m\n\u001b[0;32m     12\u001b[0m img1 \u001b[38;5;241m=\u001b[39m cv2\u001b[38;5;241m.\u001b[39mimread(img1)\n\u001b[0;32m     13\u001b[0m img2 \u001b[38;5;241m=\u001b[39m cv2\u001b[38;5;241m.\u001b[39mimread(img2)\n\u001b[1;32m---> 15\u001b[0m img1 \u001b[38;5;241m=\u001b[39m \u001b[43mcv2\u001b[49m\u001b[38;5;241;43m.\u001b[39;49m\u001b[43mcvtColor\u001b[49m\u001b[43m(\u001b[49m\u001b[43mimg1\u001b[49m\u001b[43m,\u001b[49m\u001b[43m \u001b[49m\u001b[43mcv2\u001b[49m\u001b[38;5;241;43m.\u001b[39;49m\u001b[43mCOLOR_BGR2GRAY\u001b[49m\u001b[43m)\u001b[49m\n\u001b[0;32m     16\u001b[0m img2 \u001b[38;5;241m=\u001b[39m cv2\u001b[38;5;241m.\u001b[39mcvtColor(img2, cv2\u001b[38;5;241m.\u001b[39mCOLOR_BGR2GRAY)\n\u001b[0;32m     18\u001b[0m \u001b[38;5;66;03m#sift\u001b[39;00m\n",
      "\u001b[1;31merror\u001b[0m: OpenCV(4.8.1) D:\\a\\opencv-python\\opencv-python\\opencv\\modules\\imgproc\\src\\color.cpp:182: error: (-215:Assertion failed) !_src.empty() in function 'cv::cvtColor'\n"
     ]
    }
   ],
   "source": [
    "avg_matches = 0\n",
    "total = 0\n",
    "iter = 1\n",
    "\n",
    "while True:\n",
    "    sample = facial_df[facial_df['emotion']==\"happiness\"]['image'].sample(2).values\n",
    "    \n",
    "    img1 = \"../CS 178/cs178_facial_expressions/images/\" + str(sample[0])\n",
    "    img2 = \"../CS 178/cs178_facial_expressions/images/\" + str(sample[1])\n",
    "    \n",
    "    #reading images\n",
    "    img1 = cv2.imread(img1)\n",
    "    img2 = cv2.imread(img2)\n",
    "    \n",
    "    img1 = cv2.cvtColor(img1, cv2.COLOR_BGR2GRAY)\n",
    "    img2 = cv2.cvtColor(img2, cv2.COLOR_BGR2GRAY)\n",
    "    \n",
    "    #sift\n",
    "    sift = cv2.SIFT_create() # creates a sift object\n",
    "    \n",
    "    keypoints_1, descriptors_1 = sift.detectAndCompute(img1,None)\n",
    "    keypoints_2, descriptors_2 = sift.detectAndCompute(img2,None)\n",
    "    \n",
    "    \n",
    "    #feature matching\n",
    "    bf = cv2.BFMatcher(cv2.NORM_L1, crossCheck=True)\n",
    "    \n",
    "    matches = bf.match(descriptors_1,descriptors_2)\n",
    "    matches = sorted(matches, key = lambda x:x.distance)\n",
    "\n",
    "    if len(matches) > 40:\n",
    "        img3 = cv2.drawMatches(img1, keypoints_1, img2, keypoints_2, matches[:50], img2, flags=2)\n",
    "        plt.title(f\"{sample[0]} vs {sample[1]}\")\n",
    "        plt.imshow(img3),plt.show()\n",
    "        \n",
    "        print(\"num of matches:\", len(matches))\n",
    "    \n",
    "    total += len(matches)\n",
    "\n",
    "    if iter == 50:\n",
    "        avg_matches = total/iter\n",
    "        break\n",
    "    iter += 1\n",
    "print(avg_matches)\n",
    "\n",
    "# over 50\n",
    "# test 1: avg = 21.94\n",
    "# test 2: avg = 22.9\n",
    "# test 3: avg = 24"
   ]
  },
  {
   "cell_type": "code",
   "execution_count": 8,
   "id": "39f9bab2-7a00-43c1-8fff-0aec52e7e2ac",
   "metadata": {},
   "outputs": [
    {
     "ename": "error",
     "evalue": "OpenCV(4.8.1) D:\\a\\opencv-python\\opencv-python\\opencv\\modules\\imgproc\\src\\color.cpp:182: error: (-215:Assertion failed) !_src.empty() in function 'cv::cvtColor'\n",
     "output_type": "error",
     "traceback": [
      "\u001b[1;31m---------------------------------------------------------------------------\u001b[0m",
      "\u001b[1;31merror\u001b[0m                                     Traceback (most recent call last)",
      "Cell \u001b[1;32mIn[8], line 17\u001b[0m\n\u001b[0;32m     14\u001b[0m img1 \u001b[38;5;241m=\u001b[39m cv2\u001b[38;5;241m.\u001b[39mimread(img1)\n\u001b[0;32m     15\u001b[0m img2 \u001b[38;5;241m=\u001b[39m cv2\u001b[38;5;241m.\u001b[39mimread(img2)\n\u001b[1;32m---> 17\u001b[0m img1 \u001b[38;5;241m=\u001b[39m \u001b[43mcv2\u001b[49m\u001b[38;5;241;43m.\u001b[39;49m\u001b[43mcvtColor\u001b[49m\u001b[43m(\u001b[49m\u001b[43mimg1\u001b[49m\u001b[43m,\u001b[49m\u001b[43m \u001b[49m\u001b[43mcv2\u001b[49m\u001b[38;5;241;43m.\u001b[39;49m\u001b[43mCOLOR_BGR2GRAY\u001b[49m\u001b[43m)\u001b[49m\n\u001b[0;32m     18\u001b[0m img2 \u001b[38;5;241m=\u001b[39m cv2\u001b[38;5;241m.\u001b[39mcvtColor(img2, cv2\u001b[38;5;241m.\u001b[39mCOLOR_BGR2GRAY)\n\u001b[0;32m     20\u001b[0m \u001b[38;5;66;03m#sift\u001b[39;00m\n",
      "\u001b[1;31merror\u001b[0m: OpenCV(4.8.1) D:\\a\\opencv-python\\opencv-python\\opencv\\modules\\imgproc\\src\\color.cpp:182: error: (-215:Assertion failed) !_src.empty() in function 'cv::cvtColor'\n"
     ]
    }
   ],
   "source": [
    "iter = 0\n",
    "while True:\n",
    "    iter += 1\n",
    "    if iter == 5:\n",
    "        break\n",
    "        \n",
    "    sample = facial_df[facial_df['emotion']==\"happiness\"]['image'].sample(1).values\n",
    "    sample2 = facial_df[facial_df['emotion']==\"neutral\"]['image'].sample(1).values\n",
    "    \n",
    "    img1 = \"../CS 178/cs178_facial_expressions/images/\" + str(sample[0])\n",
    "    img2 = \"../CS 178/cs178_facial_expressions/images/\" + str(sample2[0])\n",
    "    \n",
    "    #reading images\n",
    "    img1 = cv2.imread(img1)\n",
    "    img2 = cv2.imread(img2)\n",
    "    \n",
    "    img1 = cv2.cvtColor(img1, cv2.COLOR_BGR2GRAY)\n",
    "    img2 = cv2.cvtColor(img2, cv2.COLOR_BGR2GRAY)\n",
    "    \n",
    "    #sift\n",
    "    sift = cv2.SIFT_create() # creates a sift object\n",
    "    \n",
    "    keypoints_1, descriptors_1 = sift.detectAndCompute(img1,None)\n",
    "    keypoints_2, descriptors_2 = sift.detectAndCompute(img2,None)\n",
    "    \n",
    "    \n",
    "    #feature matching\n",
    "    bf = cv2.BFMatcher(cv2.NORM_L1, crossCheck=True)\n",
    "    \n",
    "    matches = bf.match(descriptors_1,descriptors_2)\n",
    "    matches = sorted(matches, key = lambda x:x.distance)\n",
    "\n",
    "    img3 = cv2.drawMatches(img1, keypoints_1, img2, keypoints_2, matches[:50], img2, flags=2)\n",
    "    plt.title(f\"happiness ({sample[0]}) vs neutral ({sample2[0]})\")\n",
    "    plt.imshow(img3),plt.show()\n",
    "    \n",
    "    print(\"num of matches:\", len(matches))\n",
    "    \n",
    "\n",
    "# over 50\n",
    "# test 1: avg = 21.94\n",
    "# test 2: avg = 22.9\n",
    "# test 3: avg = 24"
   ]
  },
  {
   "cell_type": "code",
   "execution_count": 20,
   "id": "d39a6356-2982-45c8-ba6c-01352f8e66af",
   "metadata": {},
   "outputs": [
    {
     "name": "stdout",
     "output_type": "stream",
     "text": [
      "  user.id                            image   emotion\n",
      "0     628  facial-expressions_2868588k.jpg     anger\n",
      "1     628  facial-expressions_2868585k.jpg  surprise\n",
      "2     628  facial-expressions_2868584k.jpg   disgust\n",
      "3     628  facial-expressions_2868582k.jpg      fear\n",
      "4   dwdii           Aaron_Eckhart_0001.jpg   neutral\n"
     ]
    },
    {
     "name": "stderr",
     "output_type": "stream",
     "text": [
      "100%|██████████████████████████████████████████████████████████████████████████| 13690/13690 [00:12<00:00, 1059.55it/s]\n"
     ]
    }
   ],
   "source": [
    "# Paths to your directories\n",
    "images_directory = 'facial_expressions-master/images'   # images\n",
    "data_directory = 'facial_expressions-master/data'       # data\n",
    "\n",
    "# Load legend.csv file\n",
    "csv_file_path = os.path.join(data_directory, 'legend-fixed.csv')\n",
    "data = pd.read_csv(csv_file_path)\n",
    "\n",
    "# Display the first few rows of the CSV data to understand its structure\n",
    "print(data.head())\n",
    "\n",
    "# Load images and corresponding labels\n",
    "image_data = []\n",
    "labels = []\n",
    "\n",
    "for index, row in tqdm(data.iterrows(), total=len(data)):\n",
    "    image_name = row['image']  # Assuming 'Image' is the column containing image names\n",
    "    image_path = os.path.join(images_directory, image_name)\n",
    "    \n",
    "    with Image.open(image_path) as image:\n",
    "        \n",
    "        if image.size == (350, 350):  # Assuming you want images with dimensions 350x350\n",
    "            # Append image data and label to lists\n",
    "            image_data.append(image.copy())  # Make a copy to keep the original file closed\n",
    "            labels.append(row['emotion'])\n",
    "        # image.close("
   ]
  },
  {
   "cell_type": "code",
   "execution_count": 21,
   "id": "1bf831d2-38b6-4f40-b474-42644e2c9841",
   "metadata": {},
   "outputs": [
    {
     "name": "stderr",
     "output_type": "stream",
     "text": [
      "C:\\Users\\blkeu\\anaconda3\\envs\\cs178-311\\Lib\\site-packages\\sklearn\\preprocessing\\_encoders.py:975: FutureWarning: `sparse` was renamed to `sparse_output` in version 1.2 and will be removed in 1.4. `sparse_output` is ignored unless you leave `sparse` to its default value.\n",
      "  warnings.warn(\n"
     ]
    }
   ],
   "source": [
    "labels = np.array(labels)\n",
    "\n",
    "# Initialize LabelEncoder to convert string labels to numerical categorical values\n",
    "label_encoder = LabelEncoder()\n",
    "labels_encoded = label_encoder.fit_transform(labels)\n",
    "\n",
    "# Reshape the encoded labels to a 2D array\n",
    "labels_encoded = labels_encoded.reshape(-1, 1)\n",
    "\n",
    "# Initialize OneHotEncoder\n",
    "one_hot_encoder = OneHotEncoder(sparse=False)\n",
    "\n",
    "# Fit and transform the encoded labels to one-hot encoded format\n",
    "labels_one_hot = one_hot_encoder.fit_transform(labels_encoded)"
   ]
  },
  {
   "cell_type": "code",
   "execution_count": 22,
   "id": "27ec4ff4-f10f-46cc-85e1-c87f38b3af42",
   "metadata": {},
   "outputs": [],
   "source": [
    "# Example: Convert each PIL image to a numpy array and flatten it\n",
    "# Note: This example assumes grayscale images; adjust accordingly for color images\n",
    "image_arrays = [np.array(image).flatten() for image in image_data]\n",
    "\n",
    "# Split the data into training and testing sets\n",
    "X_train, X_temp, y_train, y_temp = train_test_split(image_arrays, labels_one_hot, test_size=0.2, random_state=42)\n",
    "\n",
    "# Splitting the remaining 20% into 50% validation and 50% test\n",
    "X_val, X_test, y_val, y_test = train_test_split(X_temp, y_temp, test_size=0.5, random_state=42)"
   ]
  },
  {
   "cell_type": "code",
   "execution_count": 24,
   "id": "3ffd5e2a-9b61-4a70-96ff-abfd70bebb26",
   "metadata": {},
   "outputs": [],
   "source": [
    "# # Initialize and fit the logistic regression model\n",
    "# logreg = LogisticRegression(max_iter=100)  # Increase max_iter if needed\n",
    "# logreg.fit(X_train, y_train)\n",
    "\n",
    "# # Evaluate the model\n",
    "# accuracy = logreg.score(X_test, y_test)\n",
    "# print(f\"Accuracy of Logistic Regression: {accuracy:.2f}\")"
   ]
  },
  {
   "cell_type": "code",
   "execution_count": 25,
   "id": "93e3119a-e98f-48de-b16e-281c1064aca3",
   "metadata": {},
   "outputs": [],
   "source": [
    "img_width = 350\n",
    "img_height = 350\n",
    "img_channels = 1\n",
    "num_classes = 8\n",
    "def build_cnn(img_width, img_height, img_channels, num_classes):\n",
    "    \n",
    "    # Define the CNN model\n",
    "    model = Sequential()\n",
    "    model.add(Conv2D(32, (3,3), 1, activation='relu', input_shape=(img_width,img_height,img_channels))) # convolutional layer\n",
    "    model.add(MaxPooling2D()) # condenses our info\n",
    "    \n",
    "    model.add(Conv2D(32, (3,3), 1, activation='relu'))\n",
    "    model.add(MaxPooling2D())\n",
    "    \n",
    "    model.add(Conv2D(16, (3,3), 1, activation='relu'))\n",
    "    model.add(MaxPooling2D())\n",
    "    \n",
    "    model.add(Flatten())\n",
    "    \n",
    "    model.add(Dense(256, activation='relu'))\n",
    "    model.add(Dense(num_classes, activation='softmax'))  \n",
    "    \n",
    "    # Compile the model with appropriate loss and optimizer\n",
    "    model.compile(optimizer='adam', loss='categorical_crossentropy', metrics=['accuracy'])  # Choose appropriate loss function and metrics\n",
    "    \n",
    "    # Display the model summary\n",
    "    model.summary()\n",
    "    \n",
    "    return model"
   ]
  },
  {
   "cell_type": "code",
   "execution_count": 27,
   "id": "d82b1762-077a-43a0-a7b5-18053757f930",
   "metadata": {},
   "outputs": [
    {
     "name": "stdout",
     "output_type": "stream",
     "text": [
      "(10212, 350, 350, 1)\n",
      "(1276, 350, 350, 1)\n",
      "(1277, 350, 350, 1)\n",
      "(10212, 8)\n",
      "(1276, 8)\n",
      "(1277, 8)\n"
     ]
    }
   ],
   "source": [
    "X_train = np.array(X_train)\n",
    "y_train = np.array(y_train)\n",
    "X_val = np.array(X_val)\n",
    "y_val = np.array(y_val)\n",
    "X_test = np.array(X_test)\n",
    "y_test = np.array(y_test)\n",
    "X_train = X_train.reshape(-1, img_width, img_height, img_channels)\n",
    "X_val = X_val.reshape(-1, img_width, img_height, img_channels)\n",
    "X_test = X_test.reshape(-1, img_width, img_height, img_channels)\n",
    "print(X_train.shape)\n",
    "print(X_val.shape)\n",
    "print(X_test.shape)\n",
    "print(y_train.shape)\n",
    "print(y_val.shape)\n",
    "print(y_test.shape)"
   ]
  },
  {
   "cell_type": "code",
   "execution_count": 28,
   "id": "b30e0c97-638b-4b98-8caa-fe98d491b6c1",
   "metadata": {},
   "outputs": [
    {
     "name": "stdout",
     "output_type": "stream",
     "text": [
      "Model: \"sequential_1\"\n",
      "_________________________________________________________________\n",
      " Layer (type)                Output Shape              Param #   \n",
      "=================================================================\n",
      " conv2d_3 (Conv2D)           (None, 348, 348, 32)      320       \n",
      "                                                                 \n",
      " max_pooling2d_3 (MaxPoolin  (None, 174, 174, 32)      0         \n",
      " g2D)                                                            \n",
      "                                                                 \n",
      " conv2d_4 (Conv2D)           (None, 172, 172, 32)      9248      \n",
      "                                                                 \n",
      " max_pooling2d_4 (MaxPoolin  (None, 86, 86, 32)        0         \n",
      " g2D)                                                            \n",
      "                                                                 \n",
      " conv2d_5 (Conv2D)           (None, 84, 84, 16)        4624      \n",
      "                                                                 \n",
      " max_pooling2d_5 (MaxPoolin  (None, 42, 42, 16)        0         \n",
      " g2D)                                                            \n",
      "                                                                 \n",
      " flatten_1 (Flatten)         (None, 28224)             0         \n",
      "                                                                 \n",
      " dense_2 (Dense)             (None, 256)               7225600   \n",
      "                                                                 \n",
      " dense_3 (Dense)             (None, 8)                 2056      \n",
      "                                                                 \n",
      "=================================================================\n",
      "Total params: 7241848 (27.63 MB)\n",
      "Trainable params: 7241848 (27.63 MB)\n",
      "Non-trainable params: 0 (0.00 Byte)\n",
      "_________________________________________________________________\n",
      "Epoch 1/10\n",
      "WARNING:tensorflow:From C:\\Users\\blkeu\\anaconda3\\envs\\cs178-311\\Lib\\site-packages\\keras\\src\\utils\\tf_utils.py:492: The name tf.ragged.RaggedTensorValue is deprecated. Please use tf.compat.v1.ragged.RaggedTensorValue instead.\n",
      "\n",
      "WARNING:tensorflow:From C:\\Users\\blkeu\\anaconda3\\envs\\cs178-311\\Lib\\site-packages\\keras\\src\\engine\\base_layer_utils.py:384: The name tf.executing_eagerly_outside_functions is deprecated. Please use tf.compat.v1.executing_eagerly_outside_functions instead.\n",
      "\n",
      "320/320 [==============================] - 206s 635ms/step - loss: 4.2586 - accuracy: 0.6060 - val_loss: 0.7240 - val_accuracy: 0.7578\n",
      "Epoch 2/10\n",
      "320/320 [==============================] - 201s 627ms/step - loss: 0.6335 - accuracy: 0.7608 - val_loss: 0.7391 - val_accuracy: 0.7641\n",
      "Epoch 3/10\n",
      "320/320 [==============================] - 201s 629ms/step - loss: 0.4405 - accuracy: 0.8332 - val_loss: 0.7261 - val_accuracy: 0.7790\n",
      "Epoch 4/10\n",
      "320/320 [==============================] - 197s 617ms/step - loss: 0.2679 - accuracy: 0.9003 - val_loss: 0.8957 - val_accuracy: 0.7445\n",
      "Epoch 5/10\n",
      "320/320 [==============================] - 198s 618ms/step - loss: 0.1547 - accuracy: 0.9412 - val_loss: 1.1170 - val_accuracy: 0.7727\n",
      "Epoch 6/10\n",
      "320/320 [==============================] - 198s 617ms/step - loss: 0.0981 - accuracy: 0.9653 - val_loss: 1.1848 - val_accuracy: 0.7657\n",
      "Epoch 7/10\n",
      "320/320 [==============================] - 198s 620ms/step - loss: 0.0509 - accuracy: 0.9832 - val_loss: 1.7220 - val_accuracy: 0.7555\n",
      "Epoch 8/10\n",
      "320/320 [==============================] - 198s 618ms/step - loss: 0.0643 - accuracy: 0.9813 - val_loss: 1.3831 - val_accuracy: 0.7492\n",
      "Epoch 9/10\n",
      "320/320 [==============================] - 198s 619ms/step - loss: 0.0592 - accuracy: 0.9804 - val_loss: 2.0125 - val_accuracy: 0.7375\n",
      "Epoch 10/10\n",
      "320/320 [==============================] - 197s 616ms/step - loss: 0.0478 - accuracy: 0.9862 - val_loss: 1.8365 - val_accuracy: 0.7524\n"
     ]
    }
   ],
   "source": [
    "model = build_cnn(img_width, img_height, img_channels, num_classes)\n",
    "history = model.fit(X_train, y_train, epochs=10, batch_size=32, validation_data=(X_val, y_val))"
   ]
  },
  {
   "cell_type": "code",
   "execution_count": 29,
   "id": "3c028b21-a3af-45d7-85c0-21dfc5db1f02",
   "metadata": {},
   "outputs": [
    {
     "name": "stdout",
     "output_type": "stream",
     "text": [
      "40/40 [==============================] - 5s 129ms/step - loss: 1.6320 - accuracy: 0.7768\n",
      "Test Accuracy: 0.7768206596374512\n",
      "Test Loss: 1.6319924592971802\n"
     ]
    }
   ],
   "source": [
    "test_loss, test_accuracy = model.evaluate(X_test, y_test)\n",
    "\n",
    "print(f\"Test Accuracy: {test_accuracy}\")\n",
    "print(f\"Test Loss: {test_loss}\")"
   ]
  },
  {
   "cell_type": "code",
   "execution_count": 30,
   "id": "2500066b-b70c-4e46-9adc-3e8afb7cfedb",
   "metadata": {},
   "outputs": [
    {
     "data": {
      "image/png": "[encoded data removed]",
      "text/plain": [
       "<Figure size 640x480 with 1 Axes>"
      ]
     },
     "metadata": {},
     "output_type": "display_data"
    },
    {
     "data": {
      "image/png": "[encoded data removed]",
      "text/plain": [
       "<Figure size 640x480 with 1 Axes>"
      ]
     },
     "metadata": {},
     "output_type": "display_data"
    }
   ],
   "source": [
    "import matplotlib.pyplot as plt\n",
    "\n",
    "plt.plot(history.history['accuracy'])\n",
    "plt.plot(history.history['val_accuracy'])\n",
    "plt.title('Model accuracy')\n",
    "plt.xlabel('Epoch')\n",
    "plt.ylabel('Accuracy')\n",
    "plt.legend(['Train', 'Validation'], loc='upper left')\n",
    "plt.show()\n",
    "\n",
    "plt.plot(history.history['loss'])\n",
    "plt.plot(history.history['val_loss'])\n",
    "plt.title('Model loss')\n",
    "plt.xlabel('Epoch')\n",
    "plt.ylabel('Loss')\n",
    "plt.legend(['Train', 'Validation'], loc='upper left')\n",
    "plt.show()"
   ]
  },
  {
   "cell_type": "code",
   "execution_count": null,
   "id": "9a898f95-ffc2-41ec-befb-633561d1c711",
   "metadata": {},
   "outputs": [],
   "source": []
  }
 ],
 "metadata": {
  "kernelspec": {
   "display_name": "Python 3 (ipykernel)",
   "language": "python",
   "name": "python3"
  },
  "language_info": {
   "codemirror_mode": {
    "name": "ipython",
    "version": 3
   },
   "file_extension": ".py",
   "mimetype": "text/x-python",
   "name": "python",
   "nbconvert_exporter": "python",
   "pygments_lexer": "ipython3",
   "version": "3.11.5"
  }
 },
 "nbformat": 4,
 "nbformat_minor": 5
}
