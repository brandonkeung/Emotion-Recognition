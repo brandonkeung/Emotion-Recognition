{
 "cells": [
  {
   "cell_type": "code",
   "execution_count": 6,
   "id": "ce36f639-4dd7-4d54-aa05-8a7d36a14d6b",
   "metadata": {},
   "outputs": [
    {
     "name": "stdout",
     "output_type": "stream",
     "text": [
      "  user.id                            image   emotion\n",
      "0     628  facial-expressions_2868588k.jpg     anger\n",
      "1     628  facial-expressions_2868585k.jpg  surprise\n",
      "2     628  facial-expressions_2868584k.jpg   disgust\n",
      "3     628  facial-expressions_2868582k.jpg      fear\n",
      "4   dwdii           Aaron_Eckhart_0001.jpg   neutral\n"
     ]
    },
    {
     "name": "stderr",
     "output_type": "stream",
     "text": [
      "100%|███████████████████████████████████████████████████████████████████████████| 13690/13690 [00:16<00:00, 827.43it/s]\n"
     ]
    }
   ],
   "source": [
    "import pandas as pd\n",
    "from PIL import Image\n",
    "import os\n",
    "from tqdm import tqdm\n",
    "\n",
    "# Paths to your directories\n",
    "images_directory = 'facial_expressions-master/images'   # images\n",
    "data_directory = 'facial_expressions-master/data'       # data\n",
    "\n",
    "# Load legend.csv file\n",
    "csv_file_path = os.path.join(data_directory, 'legend.csv')\n",
    "data = pd.read_csv(csv_file_path)\n",
    "\n",
    "# Display the first few rows of the CSV data to understand its structure\n",
    "print(data.head())\n",
    "\n",
    "# Load images and corresponding labels\n",
    "image_data = []\n",
    "labels = []\n",
    "\n",
    "for index, row in tqdm(data.iterrows(), total=len(data)):\n",
    "    image_name = row['image']  # Assuming 'Image' is the column containing image names\n",
    "    image_path = os.path.join(images_directory, image_name)\n",
    "    \n",
    "    with Image.open(image_path) as image:\n",
    "        # Preprocess the image as needed for your ML model\n",
    "        \n",
    "        # Append image data and label to lists\n",
    "        image_data.append(image.copy())  # Make a copy to keep the original file closed\n",
    "        labels.append(row['emotion'])\n",
    "        # image.close()\n",
    "\n",
    "# Now, you have image_data containing PIL image objects and labels containing corresponding labels\n",
    "# You can proceed with further preprocessing and model training"
   ]
  },
  {
   "cell_type": "code",
   "execution_count": 8,
   "id": "e98a61b6-20fc-4398-8aec-d58ea0da3c28",
   "metadata": {},
   "outputs": [
    {
     "name": "stdout",
     "output_type": "stream",
     "text": [
      "happiness\n",
      "<PIL.Image.Image image mode=RGB size=347x536 at 0x18668D9D960>\n"
     ]
    }
   ],
   "source": []
  },
  {
   "cell_type": "code",
   "execution_count": null,
   "id": "41424846-eddd-43b8-b9ae-684b645e0b73",
   "metadata": {},
   "outputs": [],
   "source": []
  }
 ],
 "metadata": {
  "kernelspec": {
   "display_name": "Python 3 (ipykernel)",
   "language": "python",
   "name": "python3"
  },
  "language_info": {
   "codemirror_mode": {
    "name": "ipython",
    "version": 3
   },
   "file_extension": ".py",
   "mimetype": "text/x-python",
   "name": "python",
   "nbconvert_exporter": "python",
   "pygments_lexer": "ipython3",
   "version": "3.10.13"
  }
 },
 "nbformat": 4,
 "nbformat_minor": 5
}
