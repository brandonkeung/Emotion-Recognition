{
 "cells": [
  {
   "cell_type": "code",
   "execution_count": 10,
   "id": "ce36f639-4dd7-4d54-aa05-8a7d36a14d6b",
   "metadata": {},
   "outputs": [
    {
     "name": "stdout",
     "output_type": "stream",
     "text": [
      "  user.id                            image   emotion\n",
      "0     628  facial-expressions_2868588k.jpg     anger\n",
      "1     628  facial-expressions_2868585k.jpg  surprise\n",
      "2     628  facial-expressions_2868584k.jpg   disgust\n",
      "3     628  facial-expressions_2868582k.jpg      fear\n",
      "4   dwdii           Aaron_Eckhart_0001.jpg   neutral\n"
     ]
    },
    {
     "name": "stderr",
     "output_type": "stream",
     "text": [
      "100%|███████████████████████████████████████████████████████████████████████████| 13690/13690 [00:14<00:00, 926.15it/s]\n"
     ]
    }
   ],
   "source": [
    "import pandas as pd\n",
    "from PIL import Image\n",
    "import os\n",
    "from tqdm import tqdm\n",
    "from sklearn.model_selection import train_test_split\n",
    "from sklearn.linear_model import LogisticRegression\n",
    "import numpy as np\n",
    "\n",
    "# Paths to your directories\n",
    "images_directory = 'facial_expressions-master/images'   # images\n",
    "data_directory = 'facial_expressions-master/data'       # data\n",
    "\n",
    "# Load legend.csv file\n",
    "csv_file_path = os.path.join(data_directory, 'legend.csv')\n",
    "data = pd.read_csv(csv_file_path)\n",
    "\n",
    "# Display the first few rows of the CSV data to understand its structure\n",
    "print(data.head())\n",
    "\n",
    "# Load images and corresponding labels\n",
    "image_data = []\n",
    "labels = []\n",
    "\n",
    "for index, row in tqdm(data.iterrows(), total=len(data)):\n",
    "    image_name = row['image']  # Assuming 'Image' is the column containing image names\n",
    "    image_path = os.path.join(images_directory, image_name)\n",
    "    \n",
    "    with Image.open(image_path) as image:\n",
    "        \n",
    "        if image.size == (350, 350):  # Assuming you want images with dimensions 350x350\n",
    "            # Append image data and label to lists\n",
    "            image_data.append(image.copy())  # Make a copy to keep the original file closed\n",
    "            labels.append(row['emotion'])\n",
    "        # image.close()\n",
    "\n",
    "# Now, you have image_data containing PIL image objects and labels containing corresponding labels\n",
    "# You can proceed with further preprocessing and model training"
   ]
  },
  {
   "cell_type": "code",
   "execution_count": 11,
   "id": "e98a61b6-20fc-4398-8aec-d58ea0da3c28",
   "metadata": {},
   "outputs": [
    {
     "name": "stderr",
     "output_type": "stream",
     "text": [
      "C:\\Users\\blkeu\\anaconda3\\envs\\cs178\\lib\\site-packages\\sklearn\\linear_model\\_logistic.py:460: ConvergenceWarning: lbfgs failed to converge (status=1):\n",
      "STOP: TOTAL NO. of ITERATIONS REACHED LIMIT.\n",
      "\n",
      "Increase the number of iterations (max_iter) or scale the data as shown in:\n",
      "    https://scikit-learn.org/stable/modules/preprocessing.html\n",
      "Please also refer to the documentation for alternative solver options:\n",
      "    https://scikit-learn.org/stable/modules/linear_model.html#logistic-regression\n",
      "  n_iter_i = _check_optimize_result(\n"
     ]
    },
    {
     "name": "stdout",
     "output_type": "stream",
     "text": [
      "Accuracy of Logistic Regression: 0.72\n"
     ]
    }
   ],
   "source": [
    "# Example: Convert each PIL image to a numpy array and flatten it\n",
    "# Note: This example assumes grayscale images; adjust accordingly for color images\n",
    "image_arrays = [np.array(image).flatten() for image in image_data]\n",
    "\n",
    "# Split the data into training and testing sets\n",
    "X_train, X_test, y_train, y_test = train_test_split(image_arrays, labels, test_size=0.2, random_state=42)\n",
    "\n",
    "# Initialize and fit the logistic regression model\n",
    "logreg = LogisticRegression(max_iter=1000)  # Increase max_iter if needed\n",
    "logreg.fit(X_train, y_train)\n",
    "\n",
    "# Evaluate the model\n",
    "accuracy = logreg.score(X_test, y_test)\n",
    "print(f\"Accuracy of Logistic Regression: {accuracy:.2f}\")"
   ]
  },
  {
   "cell_type": "code",
   "execution_count": null,
   "id": "4ff7fced-7dc4-4691-b83b-bf4a1cfdcc7d",
   "metadata": {},
   "outputs": [],
   "source": []
  }
 ],
 "metadata": {
  "kernelspec": {
   "display_name": "Python 3 (ipykernel)",
   "language": "python",
   "name": "python3"
  },
  "language_info": {
   "codemirror_mode": {
    "name": "ipython",
    "version": 3
   },
   "file_extension": ".py",
   "mimetype": "text/x-python",
   "name": "python",
   "nbconvert_exporter": "python",
   "pygments_lexer": "ipython3",
   "version": "3.10.13"
  }
 },
 "nbformat": 4,
 "nbformat_minor": 5
}
