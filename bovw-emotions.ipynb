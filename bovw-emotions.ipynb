{
 "cells": [
  {
   "cell_type": "code",
   "execution_count": 57,
   "id": "6ce40f2f-4482-4f2a-9fe6-f87fd6c12c52",
   "metadata": {},
   "outputs": [],
   "source": [
    "# source code: https://www.kaggle.com/code/pierre54/bag-of-words-model-with-sift-descriptors/notebook\n",
    "\n",
    "import cv2\n",
    "import numpy as np\n",
    "import os\n",
    "import pandas as pd\n",
    "import csv\n",
    "import matplotlib.pyplot as plt\n",
    "\n",
    "from sklearn.cluster import MiniBatchKMeans\n",
    "from sklearn.cluster import KMeans\n",
    "from sklearn.neural_network import MLPClassifier\n",
    "from sklearn.metrics import zero_one_loss as J01\n",
    "\n",
    "np.random.seed(1234)"
   ]
  },
  {
   "cell_type": "markdown",
   "id": "75bfdb4a-a91d-471c-97a9-39ec891f2f81",
   "metadata": {},
   "source": [
    "**1. Initialize Dataset, Collect Target Emotions**"
   ]
  },
  {
   "cell_type": "code",
   "execution_count": 21,
   "id": "c7c1c404-c753-4bbd-a5e3-080b0f9119ee",
   "metadata": {},
   "outputs": [
    {
     "name": "stdout",
     "output_type": "stream",
     "text": [
      "['anger' 'contempt' 'disgust' 'fear' 'happiness' 'neutral' 'sadness'\n",
      " 'surprise'] 8\n"
     ]
    }
   ],
   "source": [
    "img_path = 'facial_expressions-master/images/'\n",
    "train = pd.read_csv('facial_expressions-master/data/legend-fixed.csv').sample(n = 10000)\n",
    "emotions = train.emotion.sort_values().unique()\n",
    "#emotions = np.array(['anger', 'contempt', 'disgust', 'fear', 'happiness', 'neutral', 'sadness', 'surprise'])\n",
    "print(emotions, len(emotions))\n",
    "dico = []"
   ]
  },
  {
   "cell_type": "markdown",
   "id": "3eae0f97-e852-46fd-a8dd-65a028b70d35",
   "metadata": {},
   "source": [
    "**2. Find Keypoints**"
   ]
  },
  {
   "cell_type": "code",
   "execution_count": 22,
   "id": "17a496c5-bbe0-45ec-acc4-951b7f11800e",
   "metadata": {},
   "outputs": [],
   "source": [
    "sift = cv2.SIFT_create()\n",
    "\n",
    "for leaf in train.image:\n",
    "    img = cv2.imread(img_path + str(leaf))\n",
    "    kp, des = sift.detectAndCompute(img, None)\n",
    "\n",
    "    for d in des:\n",
    "        dico.append(d)"
   ]
  },
  {
   "cell_type": "markdown",
   "id": "36f1a75f-4868-42c3-9135-9d6f233a644c",
   "metadata": {},
   "source": [
    "**3. Use K-Means Clustering**"
   ]
  },
  {
   "cell_type": "code",
   "execution_count": 23,
   "id": "559f435b-044c-4b76-8a05-8e4175e475a3",
   "metadata": {},
   "outputs": [
    {
     "data": {
      "text/html": [
       "<style>#sk-container-id-4 {color: black;}#sk-container-id-4 pre{padding: 0;}#sk-container-id-4 div.sk-toggleable {background-color: white;}#sk-container-id-4 label.sk-toggleable__label {cursor: pointer;display: block;width: 100%;margin-bottom: 0;padding: 0.3em;box-sizing: border-box;text-align: center;}#sk-container-id-4 label.sk-toggleable__label-arrow:before {content: \"▸\";float: left;margin-right: 0.25em;color: #696969;}#sk-container-id-4 label.sk-toggleable__label-arrow:hover:before {color: black;}#sk-container-id-4 div.sk-estimator:hover label.sk-toggleable__label-arrow:before {color: black;}#sk-container-id-4 div.sk-toggleable__content {max-height: 0;max-width: 0;overflow: hidden;text-align: left;background-color: #f0f8ff;}#sk-container-id-4 div.sk-toggleable__content pre {margin: 0.2em;color: black;border-radius: 0.25em;background-color: #f0f8ff;}#sk-container-id-4 input.sk-toggleable__control:checked~div.sk-toggleable__content {max-height: 200px;max-width: 100%;overflow: auto;}#sk-container-id-4 input.sk-toggleable__control:checked~label.sk-toggleable__label-arrow:before {content: \"▾\";}#sk-container-id-4 div.sk-estimator input.sk-toggleable__control:checked~label.sk-toggleable__label {background-color: #d4ebff;}#sk-container-id-4 div.sk-label input.sk-toggleable__control:checked~label.sk-toggleable__label {background-color: #d4ebff;}#sk-container-id-4 input.sk-hidden--visually {border: 0;clip: rect(1px 1px 1px 1px);clip: rect(1px, 1px, 1px, 1px);height: 1px;margin: -1px;overflow: hidden;padding: 0;position: absolute;width: 1px;}#sk-container-id-4 div.sk-estimator {font-family: monospace;background-color: #f0f8ff;border: 1px dotted black;border-radius: 0.25em;box-sizing: border-box;margin-bottom: 0.5em;}#sk-container-id-4 div.sk-estimator:hover {background-color: #d4ebff;}#sk-container-id-4 div.sk-parallel-item::after {content: \"\";width: 100%;border-bottom: 1px solid gray;flex-grow: 1;}#sk-container-id-4 div.sk-label:hover label.sk-toggleable__label {background-color: #d4ebff;}#sk-container-id-4 div.sk-serial::before {content: \"\";position: absolute;border-left: 1px solid gray;box-sizing: border-box;top: 0;bottom: 0;left: 50%;z-index: 0;}#sk-container-id-4 div.sk-serial {display: flex;flex-direction: column;align-items: center;background-color: white;padding-right: 0.2em;padding-left: 0.2em;position: relative;}#sk-container-id-4 div.sk-item {position: relative;z-index: 1;}#sk-container-id-4 div.sk-parallel {display: flex;align-items: stretch;justify-content: center;background-color: white;position: relative;}#sk-container-id-4 div.sk-item::before, #sk-container-id-4 div.sk-parallel-item::before {content: \"\";position: absolute;border-left: 1px solid gray;box-sizing: border-box;top: 0;bottom: 0;left: 50%;z-index: -1;}#sk-container-id-4 div.sk-parallel-item {display: flex;flex-direction: column;z-index: 1;position: relative;background-color: white;}#sk-container-id-4 div.sk-parallel-item:first-child::after {align-self: flex-end;width: 50%;}#sk-container-id-4 div.sk-parallel-item:last-child::after {align-self: flex-start;width: 50%;}#sk-container-id-4 div.sk-parallel-item:only-child::after {width: 0;}#sk-container-id-4 div.sk-dashed-wrapped {border: 1px dashed gray;margin: 0 0.4em 0.5em 0.4em;box-sizing: border-box;padding-bottom: 0.4em;background-color: white;}#sk-container-id-4 div.sk-label label {font-family: monospace;font-weight: bold;display: inline-block;line-height: 1.2em;}#sk-container-id-4 div.sk-label-container {text-align: center;}#sk-container-id-4 div.sk-container {/* jupyter's `normalize.less` sets `[hidden] { display: none; }` but bootstrap.min.css set `[hidden] { display: none !important; }` so we also need the `!important` here to be able to override the default hidden behavior on the sphinx rendered scikit-learn.org. See: https://github.com/scikit-learn/scikit-learn/issues/21755 */display: inline-block !important;position: relative;}#sk-container-id-4 div.sk-text-repr-fallback {display: none;}</style><div id=\"sk-container-id-4\" class=\"sk-top-container\"><div class=\"sk-text-repr-fallback\"><pre>KMeans(n_clusters=80, n_init=10)</pre><b>In a Jupyter environment, please rerun this cell to show the HTML representation or trust the notebook. <br />On GitHub, the HTML representation is unable to render, please try loading this page with nbviewer.org.</b></div><div class=\"sk-container\" hidden><div class=\"sk-item\"><div class=\"sk-estimator sk-toggleable\"><input class=\"sk-toggleable__control sk-hidden--visually\" id=\"sk-estimator-id-4\" type=\"checkbox\" checked><label for=\"sk-estimator-id-4\" class=\"sk-toggleable__label sk-toggleable__label-arrow\">KMeans</label><div class=\"sk-toggleable__content\"><pre>KMeans(n_clusters=80, n_init=10)</pre></div></div></div></div></div>"
      ],
      "text/plain": [
       "KMeans(n_clusters=80, n_init=10)"
      ]
     },
     "execution_count": 23,
     "metadata": {},
     "output_type": "execute_result"
    }
   ],
   "source": [
    "k = np.size(emotions) * 10\n",
    "\n",
    "batch_size = np.size(os.listdir(img_path)) * 3\n",
    "\n",
    "k_means = KMeans(init=\"k-means++\", n_clusters=k, n_init=10)\n",
    "k_means.fit(dico)"
   ]
  },
  {
   "cell_type": "markdown",
   "id": "a20e1820-8845-433a-a720-aad058faee15",
   "metadata": {},
   "source": [
    "**4. Build Histograms**"
   ]
  },
  {
   "cell_type": "code",
   "execution_count": 24,
   "id": "0d6de93f-d8c5-4680-bf2b-fee6d44a917f",
   "metadata": {},
   "outputs": [],
   "source": [
    "k_means.verbose = False\n",
    "\n",
    "histo_list = []\n",
    "\n",
    "for leaf in train.image:\n",
    "    img = cv2.imread(img_path + str(leaf))\n",
    "    kp, des = sift.detectAndCompute(img, None)\n",
    "\n",
    "    histo = np.zeros(k)\n",
    "    nkp = np.size(kp)\n",
    "\n",
    "    for d in des:\n",
    "        idx = k_means.predict([d])\n",
    "        histo[idx] += 1/nkp # to normalize histogram, divide by nkp\n",
    "\n",
    "    histo_list.append(histo)"
   ]
  },
  {
   "cell_type": "markdown",
   "id": "e7f13482-c28e-4d0b-aba5-4bcc675cbcb9",
   "metadata": {},
   "source": [
    "**5. Train NN**"
   ]
  },
  {
   "cell_type": "code",
   "execution_count": 25,
   "id": "cfeaf6f2-32e5-45dd-97cc-884040886b06",
   "metadata": {},
   "outputs": [
    {
     "data": {
      "text/html": [
       "<style>#sk-container-id-5 {color: black;}#sk-container-id-5 pre{padding: 0;}#sk-container-id-5 div.sk-toggleable {background-color: white;}#sk-container-id-5 label.sk-toggleable__label {cursor: pointer;display: block;width: 100%;margin-bottom: 0;padding: 0.3em;box-sizing: border-box;text-align: center;}#sk-container-id-5 label.sk-toggleable__label-arrow:before {content: \"▸\";float: left;margin-right: 0.25em;color: #696969;}#sk-container-id-5 label.sk-toggleable__label-arrow:hover:before {color: black;}#sk-container-id-5 div.sk-estimator:hover label.sk-toggleable__label-arrow:before {color: black;}#sk-container-id-5 div.sk-toggleable__content {max-height: 0;max-width: 0;overflow: hidden;text-align: left;background-color: #f0f8ff;}#sk-container-id-5 div.sk-toggleable__content pre {margin: 0.2em;color: black;border-radius: 0.25em;background-color: #f0f8ff;}#sk-container-id-5 input.sk-toggleable__control:checked~div.sk-toggleable__content {max-height: 200px;max-width: 100%;overflow: auto;}#sk-container-id-5 input.sk-toggleable__control:checked~label.sk-toggleable__label-arrow:before {content: \"▾\";}#sk-container-id-5 div.sk-estimator input.sk-toggleable__control:checked~label.sk-toggleable__label {background-color: #d4ebff;}#sk-container-id-5 div.sk-label input.sk-toggleable__control:checked~label.sk-toggleable__label {background-color: #d4ebff;}#sk-container-id-5 input.sk-hidden--visually {border: 0;clip: rect(1px 1px 1px 1px);clip: rect(1px, 1px, 1px, 1px);height: 1px;margin: -1px;overflow: hidden;padding: 0;position: absolute;width: 1px;}#sk-container-id-5 div.sk-estimator {font-family: monospace;background-color: #f0f8ff;border: 1px dotted black;border-radius: 0.25em;box-sizing: border-box;margin-bottom: 0.5em;}#sk-container-id-5 div.sk-estimator:hover {background-color: #d4ebff;}#sk-container-id-5 div.sk-parallel-item::after {content: \"\";width: 100%;border-bottom: 1px solid gray;flex-grow: 1;}#sk-container-id-5 div.sk-label:hover label.sk-toggleable__label {background-color: #d4ebff;}#sk-container-id-5 div.sk-serial::before {content: \"\";position: absolute;border-left: 1px solid gray;box-sizing: border-box;top: 0;bottom: 0;left: 50%;z-index: 0;}#sk-container-id-5 div.sk-serial {display: flex;flex-direction: column;align-items: center;background-color: white;padding-right: 0.2em;padding-left: 0.2em;position: relative;}#sk-container-id-5 div.sk-item {position: relative;z-index: 1;}#sk-container-id-5 div.sk-parallel {display: flex;align-items: stretch;justify-content: center;background-color: white;position: relative;}#sk-container-id-5 div.sk-item::before, #sk-container-id-5 div.sk-parallel-item::before {content: \"\";position: absolute;border-left: 1px solid gray;box-sizing: border-box;top: 0;bottom: 0;left: 50%;z-index: -1;}#sk-container-id-5 div.sk-parallel-item {display: flex;flex-direction: column;z-index: 1;position: relative;background-color: white;}#sk-container-id-5 div.sk-parallel-item:first-child::after {align-self: flex-end;width: 50%;}#sk-container-id-5 div.sk-parallel-item:last-child::after {align-self: flex-start;width: 50%;}#sk-container-id-5 div.sk-parallel-item:only-child::after {width: 0;}#sk-container-id-5 div.sk-dashed-wrapped {border: 1px dashed gray;margin: 0 0.4em 0.5em 0.4em;box-sizing: border-box;padding-bottom: 0.4em;background-color: white;}#sk-container-id-5 div.sk-label label {font-family: monospace;font-weight: bold;display: inline-block;line-height: 1.2em;}#sk-container-id-5 div.sk-label-container {text-align: center;}#sk-container-id-5 div.sk-container {/* jupyter's `normalize.less` sets `[hidden] { display: none; }` but bootstrap.min.css set `[hidden] { display: none !important; }` so we also need the `!important` here to be able to override the default hidden behavior on the sphinx rendered scikit-learn.org. See: https://github.com/scikit-learn/scikit-learn/issues/21755 */display: inline-block !important;position: relative;}#sk-container-id-5 div.sk-text-repr-fallback {display: none;}</style><div id=\"sk-container-id-5\" class=\"sk-top-container\"><div class=\"sk-text-repr-fallback\"><pre>MLPClassifier(max_iter=600000)</pre><b>In a Jupyter environment, please rerun this cell to show the HTML representation or trust the notebook. <br />On GitHub, the HTML representation is unable to render, please try loading this page with nbviewer.org.</b></div><div class=\"sk-container\" hidden><div class=\"sk-item\"><div class=\"sk-estimator sk-toggleable\"><input class=\"sk-toggleable__control sk-hidden--visually\" id=\"sk-estimator-id-5\" type=\"checkbox\" checked><label for=\"sk-estimator-id-5\" class=\"sk-toggleable__label sk-toggleable__label-arrow\">MLPClassifier</label><div class=\"sk-toggleable__content\"><pre>MLPClassifier(max_iter=600000)</pre></div></div></div></div></div>"
      ],
      "text/plain": [
       "MLPClassifier(max_iter=600000)"
      ]
     },
     "execution_count": 25,
     "metadata": {},
     "output_type": "execute_result"
    }
   ],
   "source": [
    "X = np.array(histo_list)\n",
    "Y = []\n",
    "\n",
    "# associate emotion to an integer\n",
    "for e in train.emotion:\n",
    "    Y.append(np.min(np.nonzero(emotions == e)))\n",
    "\n",
    "mlp = MLPClassifier(max_iter=600000)\n",
    "mlp.fit(X, Y)"
   ]
  },
  {
   "cell_type": "markdown",
   "id": "42f106ab-fca1-4465-805f-c3d7c861e6ac",
   "metadata": {},
   "source": [
    "**6. Test NN**"
   ]
  },
  {
   "cell_type": "code",
   "execution_count": 55,
   "id": "f6a33ecb-167c-4c2c-a0e1-c3bb206e1d85",
   "metadata": {},
   "outputs": [],
   "source": [
    "test = pd.read_csv('facial_expressions-master/data/legend-fixed.csv').sample(3000)\n",
    "Y_res = []\n",
    "Y_va = []\n",
    "\n",
    "for e in test.emotion:\n",
    "    Y_va.append(np.min(np.nonzero(emotions == e)))\n",
    "\n",
    "for leaf in test.image:\n",
    "    img = cv2.imread(img_path + str(leaf))\n",
    "    kp, des = sift.detectAndCompute(img, None)\n",
    "\n",
    "    x = np.zeros(k)\n",
    "    nkp = np.size(kp)\n",
    "\n",
    "    for d in des:\n",
    "        idx = k_means.predict([d])\n",
    "        x[idx] += 1/nkp\n",
    "    Y_res.append(mlp.predict([x]))\n"
   ]
  },
  {
   "cell_type": "code",
   "execution_count": 56,
   "id": "0c72a49b-79e2-4565-8018-68e33ac31bbd",
   "metadata": {},
   "outputs": [
    {
     "name": "stdout",
     "output_type": "stream",
     "text": [
      "Validation Error Rate: 0.29700000000000004\n"
     ]
    }
   ],
   "source": [
    "print(f\"Validation Error Rate: {J01(Y_res, Y_va)}\")"
   ]
  }
 ],
 "metadata": {
  "kernelspec": {
   "display_name": "Python 3 (ipykernel)",
   "language": "python",
   "name": "python3"
  },
  "language_info": {
   "codemirror_mode": {
    "name": "ipython",
    "version": 3
   },
   "file_extension": ".py",
   "mimetype": "text/x-python",
   "name": "python",
   "nbconvert_exporter": "python",
   "pygments_lexer": "ipython3",
   "version": "3.10.13"
  }
 },
 "nbformat": 4,
 "nbformat_minor": 5
}
