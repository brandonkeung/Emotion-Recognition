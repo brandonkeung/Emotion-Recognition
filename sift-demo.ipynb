{
 "cells": [
  {
   "cell_type": "code",
   "execution_count": 1,
   "id": "5525fe01-df7f-44f9-89d2-fac4aa01aa3b",
   "metadata": {},
   "outputs": [
    {
     "data": {
      "text/plain": [
       "True"
      ]
     },
     "execution_count": 1,
     "metadata": {},
     "output_type": "execute_result"
    }
   ],
   "source": [
    "# source code: https://www.geeksforgeeks.org/sift-interest-point-detector-using-python-opencv/\n",
    "\n",
    "# Important NOTE:  Use opencv >=4.4 \n",
    "import cv2\n",
    " \n",
    "# Loading the image\n",
    "img = cv2.imread('facial_expressions-master/images/Owen_Wilson_0001.jpg')\n",
    " \n",
    " # Converting image to grayscale\n",
    "gray= cv2.cvtColor(img,cv2.COLOR_BGR2GRAY)\n",
    " \n",
    "# Applying SIFT detector\n",
    "sift = cv2.SIFT_create()\n",
    "kp = sift.detect(gray, None)\n",
    " \n",
    "# Marking the keypoint on the image using circles\n",
    "img=cv2.drawKeypoints(gray ,\n",
    "                      kp ,\n",
    "                      img ,\n",
    "                      flags=cv2.DRAW_MATCHES_FLAGS_DRAW_RICH_KEYPOINTS)\n",
    " \n",
    "cv2.imwrite('Owen_Wilson_0001-keypoints.jpg', img)"
   ]
  }
 ],
 "metadata": {
  "kernelspec": {
   "display_name": "Python 3 (ipykernel)",
   "language": "python",
   "name": "python3"
  },
  "language_info": {
   "codemirror_mode": {
    "name": "ipython",
    "version": 3
   },
   "file_extension": ".py",
   "mimetype": "text/x-python",
   "name": "python",
   "nbconvert_exporter": "python",
   "pygments_lexer": "ipython3",
   "version": "3.10.13"
  }
 },
 "nbformat": 4,
 "nbformat_minor": 5
}
